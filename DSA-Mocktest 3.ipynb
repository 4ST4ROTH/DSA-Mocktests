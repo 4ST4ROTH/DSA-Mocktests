{
 "cells": [
  {
   "cell_type": "code",
   "execution_count": 6,
   "id": "2deef7ec",
   "metadata": {},
   "outputs": [],
   "source": [
    "class queue():\n",
    "    def __init__(self):\n",
    "        self.queue = []\n",
    "        \n",
    "    def enqueue(self,n):\n",
    "        self.queue.append(n)\n",
    "        return self.queue\n",
    "    \n",
    "    def dequeue(self):\n",
    "        if self.queue.isEmpty():\n",
    "            print(\"queue is already empty\")\n",
    "            return\n",
    "            \n",
    "        self.queue.pop(0)\n",
    "        return self.queue\n",
    "    \n",
    "    def isEmpty(self):\n",
    "        return len(self.queue) == 0\n",
    "    "
   ]
  },
  {
   "cell_type": "code",
   "execution_count": null,
   "id": "2652ef57",
   "metadata": {},
   "outputs": [],
   "source": []
  }
 ],
 "metadata": {
  "kernelspec": {
   "display_name": "Python 3 (ipykernel)",
   "language": "python",
   "name": "python3"
  },
  "language_info": {
   "codemirror_mode": {
    "name": "ipython",
    "version": 3
   },
   "file_extension": ".py",
   "mimetype": "text/x-python",
   "name": "python",
   "nbconvert_exporter": "python",
   "pygments_lexer": "ipython3",
   "version": "3.9.7"
  }
 },
 "nbformat": 4,
 "nbformat_minor": 5
}
