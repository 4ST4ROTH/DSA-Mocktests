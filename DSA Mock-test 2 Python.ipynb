{
 "cells": [
  {
   "cell_type": "code",
   "execution_count": 1,
   "id": "a2067663",
   "metadata": {},
   "outputs": [],
   "source": [
    "def sqrt(x)->int:\n",
    "    start = 1\n",
    "    end = x\n",
    "    \n",
    "    while start <= end:\n",
    "        mid = start + (end-start) //2\n",
    "        \n",
    "        if mid*mid == x:\n",
    "            return mid\n",
    "        \n",
    "        elif mid*mid < x:\n",
    "            start = mid+1\n",
    "        \n",
    "        else:\n",
    "            end = mid - 1\n",
    "            \n",
    "    return end"
   ]
  },
  {
   "cell_type": "code",
   "execution_count": 6,
   "id": "28b26c1d",
   "metadata": {},
   "outputs": [
    {
     "data": {
      "text/plain": [
       "5"
      ]
     },
     "execution_count": 6,
     "metadata": {},
     "output_type": "execute_result"
    }
   ],
   "source": [
    "sqrt(26)"
   ]
  },
  {
   "cell_type": "code",
   "execution_count": 7,
   "id": "cc8029a3",
   "metadata": {},
   "outputs": [
    {
     "data": {
      "text/plain": [
       "31"
      ]
     },
     "execution_count": 7,
     "metadata": {},
     "output_type": "execute_result"
    }
   ],
   "source": [
    "sqrt(1000)"
   ]
  },
  {
   "cell_type": "code",
   "execution_count": 8,
   "id": "ed14bcff",
   "metadata": {},
   "outputs": [
    {
     "data": {
      "text/plain": [
       "999"
      ]
     },
     "execution_count": 8,
     "metadata": {},
     "output_type": "execute_result"
    }
   ],
   "source": [
    "sqrt(999999)"
   ]
  },
  {
   "cell_type": "code",
   "execution_count": null,
   "id": "7587a2fc",
   "metadata": {},
   "outputs": [],
   "source": []
  }
 ],
 "metadata": {
  "kernelspec": {
   "display_name": "Python 3 (ipykernel)",
   "language": "python",
   "name": "python3"
  },
  "language_info": {
   "codemirror_mode": {
    "name": "ipython",
    "version": 3
   },
   "file_extension": ".py",
   "mimetype": "text/x-python",
   "name": "python",
   "nbconvert_exporter": "python",
   "pygments_lexer": "ipython3",
   "version": "3.9.7"
  }
 },
 "nbformat": 4,
 "nbformat_minor": 5
}
