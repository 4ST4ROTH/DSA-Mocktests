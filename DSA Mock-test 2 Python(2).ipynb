{
 "cells": [
  {
   "cell_type": "code",
   "execution_count": 1,
   "id": "2077e2f6",
   "metadata": {},
   "outputs": [],
   "source": [
    "class ListNode:\n",
    "    def __init__(self,val=0,next=None):\n",
    "        self.val = val\n",
    "        self.next = next\n",
    "\n",
    "def sum(l1,l2):\n",
    "    dummy = ListNoide()\n",
    "    current = dummy\n",
    "    carry = 0\n",
    "    \n",
    "    while l1 or l2 or carry:\n",
    "        sum_val = carry\n",
    "        \n",
    "        if l1:\n",
    "            sum_val += l1.val\n",
    "            l1 = l1.next\n",
    "            \n",
    "        \n",
    "        if l2:\n",
    "            sum_val += l2.val\n",
    "            l2 = l2.next\n",
    "            \n",
    "        carry = sum_val //10\n",
    "        current.next = ListNode(sum_val % 10)\n",
    "        current = current.next\n",
    "        \n",
    "    return dummy.next"
   ]
  },
  {
   "cell_type": "code",
   "execution_count": null,
   "id": "c6af6739",
   "metadata": {},
   "outputs": [],
   "source": []
  }
 ],
 "metadata": {
  "kernelspec": {
   "display_name": "Python 3 (ipykernel)",
   "language": "python",
   "name": "python3"
  },
  "language_info": {
   "codemirror_mode": {
    "name": "ipython",
    "version": 3
   },
   "file_extension": ".py",
   "mimetype": "text/x-python",
   "name": "python",
   "nbconvert_exporter": "python",
   "pygments_lexer": "ipython3",
   "version": "3.9.7"
  }
 },
 "nbformat": 4,
 "nbformat_minor": 5
}
